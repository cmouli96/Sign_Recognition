{
 "cells": [
  {
   "cell_type": "code",
   "execution_count": null,
   "metadata": {},
   "outputs": [],
   "source": [
    "import cv2\n",
    "import os\n",
    "import sys\n",
    "import tensorflow as tf\n",
    "try:\n",
    "    label_name=sys.argv[1]\n",
    "    num_samples=int(sys.argv[2])\n",
    "    no_images=int(sys.argv[3])\n",
    "except:\n",
    "    print(\"Arguments missing.\")\n",
    "    print(desc)\n",
    "    exit(-1)\n",
    "img_save_path='image_data'\n",
    "img_class_path=os.path.join(img_save_path,label_name)\n",
    "# no_images=0\n",
    "try:\n",
    "    os.mkdir(img_save_path)\n",
    "except FileExistsError:\n",
    "    print(\"directory already created\")\n",
    "try:\n",
    "    os.mkdir(img_class_path)\n",
    "except FileExistsError:\n",
    "    print(\"{} directory already exists.\".format(img_class_path))\n",
    "    print(\"All images gathered will be saved along with existing items in the folder\")\n",
    "cap=cv2.VideoCapture(0)\n",
    "start=False\n",
    "count=0\n",
    "while True:\n",
    "    ret,frame=cap.read()\n",
    "    if not ret:\n",
    "        continue\n",
    "    if count==num_samples:\n",
    "        break\n",
    "    cv2.rectangle(frame,(100,100),(350,350),(255,255,255),2)\n",
    "    \n",
    "    if start:\n",
    "        roi=frame[100:500,100:500]\n",
    "        save_path=os.path.join(img_class_path,'{}.jpg'.format(no_images+1))\n",
    "        cv2.imwrite(save_path,roi)\n",
    "        no_images+=1\n",
    "        count+=1\n",
    "    font=cv2.FONT_HERSHEY_SIMPLEX\n",
    "    cv2.putText(frame,\"Collecting {}\".format(count),(5,50),font,0.7,(0,255,255),2,cv2.LINE_AA)\n",
    "    cv2.imshow(\"Collecting images\",frame)\n",
    "    \n",
    "    k=cv2.waitKey(10)\n",
    "    if k==ord('a'):\n",
    "        start=not start\n",
    "    if k==ord('q'):\n",
    "        break\n",
    "print(\"\\n{} image(s) saved to {}\".format(count,img_class_path))\n",
    "cap.release()\n",
    "cv2.destroyAllWindows()\n",
    "    "
   ]
  }
 ],
 "metadata": {
  "kernelspec": {
   "display_name": "Python 3",
   "language": "python",
   "name": "python3"
  },
  "language_info": {
   "codemirror_mode": {
    "name": "ipython",
    "version": 3
   },
   "file_extension": ".py",
   "mimetype": "text/x-python",
   "name": "python",
   "nbconvert_exporter": "python",
   "pygments_lexer": "ipython3",
   "version": "3.6.9"
  }
 },
 "nbformat": 4,
 "nbformat_minor": 2
}
