{
 "cells": [
  {
   "cell_type": "code",
   "execution_count": 1,
   "metadata": {},
   "outputs": [
    {
     "name": "stderr",
     "output_type": "stream",
     "text": [
      "Using TensorFlow backend.\n"
     ]
    }
   ],
   "source": [
    "from os import listdir\n",
    "from numpy import asarray\n",
    "from numpy import save\n",
    "from keras.preprocessing.image import load_img\n",
    "from keras.preprocessing.image import img_to_array\n",
    "import matplotlib.pyplot as plt\n",
    "from matplotlib import image\n",
    "from PIL import Image  \n",
    "Image.LOAD_TRUNCATED_IMAGES = True"
   ]
  },
  {
   "cell_type": "code",
   "execution_count": 2,
   "metadata": {},
   "outputs": [],
   "source": [
    "newsize=(227,227)\n",
    "folder='image_data/train/0/'\n",
    "for file in listdir(folder):\n",
    "    im=Image.open(folder+file)\n",
    "    im=im.resize(newsize)\n",
    "    im=im.save(folder+file)\n",
    "folder='image_data/train/1/'\n",
    "for file in listdir(folder):\n",
    "    im=Image.open(folder+file)\n",
    "    im=im.resize(newsize)\n",
    "    im=im.save(folder+file)\n",
    "folder='image_data/train/2/'\n",
    "for file in listdir(folder):\n",
    "    im=Image.open(folder+file)\n",
    "    im=im.resize(newsize)\n",
    "    im=im.save(folder+file)\n",
    "folder='image_data/train/3/'\n",
    "for file in listdir(folder):\n",
    "    im=Image.open(folder+file)\n",
    "    im=im.resize(newsize)\n",
    "    im=im.save(folder+file)\n",
    "folder='image_data/train/4/'\n",
    "for file in listdir(folder):\n",
    "    im=Image.open(folder+file)\n",
    "    im=im.resize(newsize)\n",
    "    im=im.save(folder+file)\n",
    "folder='image_data/train/5/'\n",
    "for file in listdir(folder):\n",
    "    im=Image.open(folder+file)\n",
    "    im=im.resize(newsize)\n",
    "    im=im.save(folder+file)"
   ]
  },
  {
   "cell_type": "code",
   "execution_count": 3,
   "metadata": {},
   "outputs": [],
   "source": [
    "folder='image_data/train/0/'\n",
    "loaded_images=list()\n",
    "labels=list()\n",
    "for filename in listdir(folder):\n",
    "    output=1\n",
    "    img_data=image.imread(folder+filename)\n",
    "    loaded_images.append(img_data)\n",
    "    labels.append(output)\n",
    "folder='image_data/train/1/'\n",
    "for filename in listdir(folder):\n",
    "    output=1\n",
    "    img_data=image.imread(folder+filename)\n",
    "    loaded_images.append(img_data)\n",
    "    labels.append(output)\n",
    "folder='image_data/train/2/'\n",
    "for filename in listdir(folder):\n",
    "    output=2\n",
    "    img_data=image.imread(folder+filename)\n",
    "    loaded_images.append(img_data)\n",
    "    labels.append(output)\n",
    "folder='image_data/train/3/'\n",
    "for filename in listdir(folder):\n",
    "    output=3\n",
    "    img_data=image.imread(folder+filename)\n",
    "    loaded_images.append(img_data)\n",
    "    labels.append(output)\n",
    "folder='image_data/train/4/'\n",
    "for filename in listdir(folder):\n",
    "    output=4\n",
    "    img_data=image.imread(folder+filename)\n",
    "    loaded_images.append(img_data)\n",
    "    labels.append(output)\n",
    "folder='image_data/train/5/'\n",
    "for filename in listdir(folder):\n",
    "    output=5\n",
    "    img_data=image.imread(folder+filename)\n",
    "    loaded_images.append(img_data)\n",
    "    labels.append(output)"
   ]
  },
  {
   "cell_type": "code",
   "execution_count": 4,
   "metadata": {},
   "outputs": [],
   "source": [
    "photos=asarray(loaded_images)\n",
    "label=asarray(labels)"
   ]
  },
  {
   "cell_type": "code",
   "execution_count": 5,
   "metadata": {},
   "outputs": [
    {
     "data": {
      "text/plain": [
       "(12000, 227, 227, 3)"
      ]
     },
     "execution_count": 5,
     "metadata": {},
     "output_type": "execute_result"
    }
   ],
   "source": [
    "photos.shape"
   ]
  },
  {
   "cell_type": "code",
   "execution_count": 6,
   "metadata": {},
   "outputs": [
    {
     "data": {
      "text/plain": [
       "(12000,)"
      ]
     },
     "execution_count": 6,
     "metadata": {},
     "output_type": "execute_result"
    }
   ],
   "source": [
    "label.shape"
   ]
  },
  {
   "cell_type": "code",
   "execution_count": null,
   "metadata": {},
   "outputs": [],
   "source": [
    "save('train_photos.npy', photos)\n",
    "save('train_labels.npy', label)"
   ]
  },
  {
   "cell_type": "code",
   "execution_count": 8,
   "metadata": {},
   "outputs": [],
   "source": [
    "from PIL import ImageFile\n",
    "ImageFile.LOAD_TRUNCATED_IMAGES = True\n",
    "newsize=(227,227)\n",
    "folder='image_data/test/0/'\n",
    "for file in listdir(folder):\n",
    "    im=Image.open(folder+file)\n",
    "    im=im.resize(newsize)\n",
    "    im=im.save(folder+file)\n",
    "folder='image_data/test/1/'\n",
    "for file in listdir(folder):\n",
    "    im=Image.open(folder+file)\n",
    "    im=im.resize(newsize)\n",
    "    im=im.save(folder+file)\n",
    "folder='image_data/test/2/'\n",
    "for file in listdir(folder):\n",
    "    im=Image.open(folder+file)\n",
    "    im=im.resize(newsize)\n",
    "    im=im.save(folder+file)\n",
    "folder='image_data/test/3/'\n",
    "for file in listdir(folder):\n",
    "    im=Image.open(folder+file)\n",
    "    im=im.resize(newsize)\n",
    "    im=im.save(folder+file)\n",
    "folder='image_data/test/4/'\n",
    "for file in listdir(folder):\n",
    "    im=Image.open(folder+file)\n",
    "    im=im.resize(newsize)\n",
    "    im=im.save(folder+file)\n",
    "folder='image_data/test/5/'\n",
    "for file in listdir(folder):\n",
    "    im=Image.open(folder+file)\n",
    "    im=im.resize(newsize)\n",
    "    im=im.save(folder+file)"
   ]
  },
  {
   "cell_type": "code",
   "execution_count": 9,
   "metadata": {},
   "outputs": [],
   "source": [
    "folder='image_data/test/0/'\n",
    "loaded_images=list()\n",
    "labels=list()\n",
    "for filename in listdir(folder):\n",
    "    output=1\n",
    "    img_data=image.imread(folder+filename)\n",
    "    loaded_images.append(img_data)\n",
    "    labels.append(output)\n",
    "folder='image_data/test/1/'\n",
    "for filename in listdir(folder):\n",
    "    output=1\n",
    "    img_data=image.imread(folder+filename)\n",
    "    loaded_images.append(img_data)\n",
    "    labels.append(output)\n",
    "folder='image_data/test/2/'\n",
    "for filename in listdir(folder):\n",
    "    output=2\n",
    "    img_data=image.imread(folder+filename)\n",
    "    loaded_images.append(img_data)\n",
    "    labels.append(output)\n",
    "folder='image_data/test/3/'\n",
    "for filename in listdir(folder):\n",
    "    output=3\n",
    "    img_data=image.imread(folder+filename)\n",
    "    loaded_images.append(img_data)\n",
    "    labels.append(output)\n",
    "folder='image_data/test/4/'\n",
    "for filename in listdir(folder):\n",
    "    output=4\n",
    "    img_data=image.imread(folder+filename)\n",
    "    loaded_images.append(img_data)\n",
    "    labels.append(output)\n",
    "folder='image_data/test/5/'\n",
    "for filename in listdir(folder):\n",
    "    output=5\n",
    "    img_data=image.imread(folder+filename)\n",
    "    loaded_images.append(img_data)\n",
    "    labels.append(output)"
   ]
  },
  {
   "cell_type": "code",
   "execution_count": 10,
   "metadata": {},
   "outputs": [],
   "source": [
    "photos=asarray(loaded_images)\n",
    "label=asarray(labels)"
   ]
  },
  {
   "cell_type": "code",
   "execution_count": 11,
   "metadata": {},
   "outputs": [],
   "source": [
    "save('test_photos.npy', photos)\n",
    "save('test_labels.npy', label)"
   ]
  },
  {
   "cell_type": "code",
   "execution_count": 12,
   "metadata": {},
   "outputs": [
    {
     "data": {
      "text/plain": [
       "2500"
      ]
     },
     "execution_count": 12,
     "metadata": {},
     "output_type": "execute_result"
    }
   ],
   "source": [
    "len(loaded_images)"
   ]
  },
  {
   "cell_type": "code",
   "execution_count": null,
   "metadata": {},
   "outputs": [],
   "source": []
  }
 ],
 "metadata": {
  "kernelspec": {
   "display_name": "Python 3",
   "language": "python",
   "name": "python3"
  },
  "language_info": {
   "codemirror_mode": {
    "name": "ipython",
    "version": 3
   },
   "file_extension": ".py",
   "mimetype": "text/x-python",
   "name": "python",
   "nbconvert_exporter": "python",
   "pygments_lexer": "ipython3",
   "version": "3.6.9"
  }
 },
 "nbformat": 4,
 "nbformat_minor": 2
}
