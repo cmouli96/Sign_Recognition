{
 "cells": [
  {
   "cell_type": "code",
   "execution_count": 1,
   "metadata": {},
   "outputs": [
    {
     "name": "stderr",
     "output_type": "stream",
     "text": [
      "Using TensorFlow backend.\n"
     ]
    }
   ],
   "source": [
    "import cv2\n",
    "import numpy as np\n",
    "from keras_squeezenet import SqueezeNet\n",
    "from keras.applications.inception_v3 import InceptionV3\n",
    "from keras.applications.vgg16 import VGG16\n",
    "from keras.applications.resnet import ResNet50\n",
    "from keras.optimizers import Adam\n",
    "from keras.utils import np_utils\n",
    "from keras.layers import Activation,Dropout,Convolution2D,GlobalAveragePooling2D\n",
    "from keras.models import Sequential\n",
    "from keras.callbacks import EarlyStopping\n",
    "import tensorflow as tf\n",
    "from keras.utils import to_categorical\n",
    "import os"
   ]
  },
  {
   "cell_type": "code",
   "execution_count": 3,
   "metadata": {},
   "outputs": [],
   "source": [
    "train_X = np.load('/home/cm/Advance visual recognition/train_photos.npy')\n",
    "train_Y = np.load('/home/cm/Advance visual recognition/train_labels.npy')\n",
    "test_X = np.load('/home/cm/Advance visual recognition/test_photos.npy')\n",
    "test_Y = np.load('/home/cm/Advance visual recognition/test_labels.npy')"
   ]
  },
  {
   "cell_type": "code",
   "execution_count": 4,
   "metadata": {},
   "outputs": [],
   "source": [
    "train_Y = to_categorical(train_Y)\n",
    "test_Y = to_categorical(test_Y)"
   ]
  },
  {
   "cell_type": "code",
   "execution_count": 5,
   "metadata": {},
   "outputs": [
    {
     "name": "stdout",
     "output_type": "stream",
     "text": [
      "Epoch 1/20\n",
      "12000/12000 [==============================] - 379s 32ms/step - loss: 0.5040 - accuracy: 0.8164\n",
      "Epoch 2/20\n",
      "12000/12000 [==============================] - 371s 31ms/step - loss: 0.0531 - accuracy: 0.9834\n",
      "Epoch 3/20\n",
      "12000/12000 [==============================] - 367s 31ms/step - loss: 0.0276 - accuracy: 0.9917\n",
      "Epoch 4/20\n",
      "12000/12000 [==============================] - 362s 30ms/step - loss: 0.0137 - accuracy: 0.9958\n",
      "Epoch 5/20\n",
      "12000/12000 [==============================] - 365s 30ms/step - loss: 0.0145 - accuracy: 0.9958\n",
      "Epoch 6/20\n",
      "12000/12000 [==============================] - 363s 30ms/step - loss: 0.0189 - accuracy: 0.9945\n",
      "Epoch 7/20\n",
      "12000/12000 [==============================] - 366s 30ms/step - loss: 0.0029 - accuracy: 0.9990\n",
      "Epoch 8/20\n",
      "12000/12000 [==============================] - 366s 30ms/step - loss: 0.0335 - accuracy: 0.9903\n",
      "Epoch 9/20\n",
      "12000/12000 [==============================] - 366s 30ms/step - loss: 0.0045 - accuracy: 0.9987\n",
      "Epoch 10/20\n",
      "12000/12000 [==============================] - 371s 31ms/step - loss: 0.0131 - accuracy: 0.9958\n",
      "Epoch 11/20\n",
      "12000/12000 [==============================] - 365s 30ms/step - loss: 0.0018 - accuracy: 0.9995\n",
      "Epoch 12/20\n",
      "12000/12000 [==============================] - 365s 30ms/step - loss: 0.0013 - accuracy: 0.9997\n",
      "Epoch 13/20\n",
      "12000/12000 [==============================] - 365s 30ms/step - loss: 0.0033 - accuracy: 0.9989\n",
      "Epoch 14/20\n",
      "12000/12000 [==============================] - 366s 30ms/step - loss: 0.0094 - accuracy: 0.9973\n",
      "Epoch 15/20\n",
      "12000/12000 [==============================] - 366s 30ms/step - loss: 3.3034e-04 - accuracy: 1.0000\n",
      "Epoch 16/20\n",
      "12000/12000 [==============================] - 367s 31ms/step - loss: 5.4698e-05 - accuracy: 1.0000\n",
      "Epoch 17/20\n",
      "12000/12000 [==============================] - 366s 30ms/step - loss: 0.0248 - accuracy: 0.9923\n",
      "Epoch 18/20\n",
      "12000/12000 [==============================] - 366s 30ms/step - loss: 0.0065 - accuracy: 0.9984\n",
      "Epoch 19/20\n",
      "12000/12000 [==============================] - 366s 30ms/step - loss: 1.2502e-04 - accuracy: 1.0000\n",
      "Epoch 20/20\n",
      "12000/12000 [==============================] - 366s 31ms/step - loss: 3.7742e-05 - accuracy: 1.0000\n"
     ]
    }
   ],
   "source": [
    "CLASS_MAP={\n",
    "    \"0\":0,\n",
    "    \"1\":1,\n",
    "    \"2\":2,\n",
    "    \"3\":3,\n",
    "    \"4\":4,\n",
    "    \"5\":5,\n",
    "}\n",
    "# weights='imagenet',\n",
    "num_classes=len(CLASS_MAP)\n",
    "def mapper(val):\n",
    "    return CLASS_MAP[val]\n",
    "def get_model():\n",
    "    model=Sequential([\n",
    "        SqueezeNet(input_shape=(227,227,3),weights='imagenet',include_top=False),\n",
    "        Dropout(0.5),\n",
    "        Convolution2D(num_classes,(1,1),padding='valid'),\n",
    "        Activation('relu'),\n",
    "        GlobalAveragePooling2D(),\n",
    "        Activation('softmax')\n",
    "    ])\n",
    "    return model\n",
    "model1=get_model()\n",
    "model1.compile(\n",
    "    optimizer=Adam(lr=0.0001),\n",
    "    loss='categorical_crossentropy',\n",
    "    metrics=['accuracy']\n",
    ")\n",
    "model1.fit(train_X,train_Y,epochs=20)\n",
    "model1.save(\"Sign_Language_model2.h5\")"
   ]
  },
  {
   "cell_type": "code",
   "execution_count": 6,
   "metadata": {},
   "outputs": [
    {
     "name": "stdout",
     "output_type": "stream",
     "text": [
      "3000/3000 [==============================] - 23s 8ms/step\n"
     ]
    }
   ],
   "source": [
    "scores1 = model1.evaluate(test_X,test_Y)"
   ]
  },
  {
   "cell_type": "code",
   "execution_count": 7,
   "metadata": {},
   "outputs": [
    {
     "name": "stdout",
     "output_type": "stream",
     "text": [
      "Loss: 1.157\n",
      "Accuracy: 0.818\n"
     ]
    }
   ],
   "source": [
    "print('Loss: %.3f' % scores1[0])\n",
    "print('Accuracy: %.3f' % scores1[1])"
   ]
  },
  {
   "cell_type": "code",
   "execution_count": null,
   "metadata": {},
   "outputs": [],
   "source": []
  },
  {
   "cell_type": "code",
   "execution_count": null,
   "metadata": {},
   "outputs": [],
   "source": []
  }
 ],
 "metadata": {
  "kernelspec": {
   "display_name": "Python 3",
   "language": "python",
   "name": "python3"
  },
  "language_info": {
   "codemirror_mode": {
    "name": "ipython",
    "version": 3
   },
   "file_extension": ".py",
   "mimetype": "text/x-python",
   "name": "python",
   "nbconvert_exporter": "python",
   "pygments_lexer": "ipython3",
   "version": "3.6.9"
  }
 },
 "nbformat": 4,
 "nbformat_minor": 2
}
